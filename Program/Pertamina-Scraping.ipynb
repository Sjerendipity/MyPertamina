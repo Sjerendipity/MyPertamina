{
 "cells": [
  {
   "cell_type": "markdown",
   "id": "d24d9ba2",
   "metadata": {},
   "source": [
    "# Proses Pengambilan Data Melalui Tahap Scraping"
   ]
  },
  {
   "cell_type": "code",
   "execution_count": 2,
   "id": "c873eaca",
   "metadata": {},
   "outputs": [
    {
     "name": "stdout",
     "output_type": "stream",
     "text": [
      "Requirement already satisfied: google-play-scraper in c:\\users\\alvita\\appdata\\local\\programs\\python\\python311\\lib\\site-packages (1.2.4)\n"
     ]
    }
   ],
   "source": [
    "!pip install google-play-scraper"
   ]
  },
  {
   "cell_type": "code",
   "execution_count": 3,
   "id": "d8da09a6",
   "metadata": {},
   "outputs": [],
   "source": [
    "import pandas as pd\n",
    "from google_play_scraper import Sort, reviews_all\n",
    "\n",
    "result = reviews_all(\n",
    "    'com.dafturn.mypertamina',\n",
    "    sleep_milliseconds=0, #defaults to 0\n",
    "    lang='id', #defaults to 'en'\n",
    "    country='id', #default to 'us'\n",
    "    sort=Sort.MOST_RELEVANT, #default to Sort.MOST_RELEVANT\n",
    "    filter_score_with=5\n",
    "    )\n",
    "\n",
    "df = pd.DataFrame.from_records(result)\n",
    "df = df.drop(columns=['reviewId', 'userName', 'userImage', 'thumbsUpCount', 'reviewCreatedVersion', 'replyContent', 'repliedAt'])\n",
    "df.to_csv('mypertamina-rating5.tsv', sep='\\t', index=False, header=None)"
   ]
  }
 ],
 "metadata": {
  "kernelspec": {
   "display_name": "Python 3 (ipykernel)",
   "language": "python",
   "name": "python3"
  },
  "language_info": {
   "codemirror_mode": {
    "name": "ipython",
    "version": 3
   },
   "file_extension": ".py",
   "mimetype": "text/x-python",
   "name": "python",
   "nbconvert_exporter": "python",
   "pygments_lexer": "ipython3",
   "version": "3.11.3"
  }
 },
 "nbformat": 4,
 "nbformat_minor": 5
}
